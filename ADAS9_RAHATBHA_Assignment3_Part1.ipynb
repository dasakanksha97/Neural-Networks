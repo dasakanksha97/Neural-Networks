{
 "cells": [
  {
   "cell_type": "markdown",
   "id": "ce7b2977",
   "metadata": {
    "id": "ce7b2977"
   },
   "source": [
    "<div align=\"center\"> \n",
    "    <h3><font color='blue'>CSE 574 Sections C&D: Introduction to Machine Learning, Spring 2022 </font></h3>\n",
    "    <h1> Assignment 3 </h1>\n",
    "    <h2> Part 1 : Building a Basic NN </h2>\n",
    "    <h4> Submitted By : Akanksha Das & Rahat Bhalla </h4>\n",
    "\n",
    "<p>\"I (We) certify that the code and data in this assignment were generated independently,using only the tools and resources defined in the course and that I (we) did not receive any external help, coaching or contributions during the production of this work.\"</p>\n",
    "</div>"
   ]
  },
  {
   "cell_type": "code",
   "execution_count": 35,
   "id": "f6b8d5e0",
   "metadata": {
    "id": "f6b8d5e0"
   },
   "outputs": [],
   "source": [
    "#Importing Necessary Libraries for Implementing Part 1\n",
    "import math\n",
    "import numpy as np\n",
    "import tensorflow as tf\n",
    "import pandas as pd\n",
    "import matplotlib.pyplot as plotter\n",
    "from tensorflow import keras\n",
    "from tensorflow.keras.callbacks import EarlyStopping"
   ]
  },
  {
   "cell_type": "markdown",
   "id": "019624ba",
   "metadata": {
    "id": "019624ba"
   },
   "source": [
    "<b>Importing Income Data CSV using Pandas:<b>"
   ]
  },
  {
   "cell_type": "code",
   "execution_count": 36,
   "id": "2c635d61",
   "metadata": {
    "colab": {
     "base_uri": "https://localhost:8080/"
    },
    "id": "2c635d61",
    "outputId": "6e3e1213-8164-4b1c-d5a7-b71e4ed12731"
   },
   "outputs": [
    {
     "name": "stdout",
     "output_type": "stream",
     "text": [
      "\n",
      "No of Samples: 32561 and No of Attributes: 15\n"
     ]
    }
   ],
   "source": [
    "incomeData = pd.read_csv('income_dataset.csv')\n",
    "incomeDataFrame = pd.DataFrame(incomeData)\n",
    "\n",
    "samples,attributes = incomeDataFrame.shape\n",
    "print('\\nNo of Samples: {0} and No of Attributes: {1}'.format(samples,attributes))"
   ]
  },
  {
   "cell_type": "markdown",
   "id": "09a61d29",
   "metadata": {
    "id": "09a61d29"
   },
   "source": [
    "<b>Analyzing Attributes of Given Data:<b>"
   ]
  },
  {
   "cell_type": "code",
   "execution_count": 37,
   "id": "20ff7ae6",
   "metadata": {
    "colab": {
     "base_uri": "https://localhost:8080/"
    },
    "id": "20ff7ae6",
    "outputId": "f7968856-84c5-45fa-e431-fe1f3b9f9b7c"
   },
   "outputs": [
    {
     "name": "stdout",
     "output_type": "stream",
     "text": [
      "\n",
      "Columns in Dataframe and their Imported Data Type:\n",
      "\n",
      "Column 1 is 'age' and of data type: int64\n",
      "Column 2 is 'workclass' and of data type: object\n",
      "Column 3 is 'fnlwgt' and of data type: int64\n",
      "Column 4 is 'education' and of data type: object\n",
      "Column 5 is 'education.num' and of data type: int64\n",
      "Column 6 is 'marital.status' and of data type: object\n",
      "Column 7 is 'occupation' and of data type: object\n",
      "Column 8 is 'relationship' and of data type: object\n",
      "Column 9 is 'race' and of data type: object\n",
      "Column 10 is 'sex' and of data type: object\n",
      "Column 11 is 'capital.gain' and of data type: int64\n",
      "Column 12 is 'capital.loss' and of data type: int64\n",
      "Column 13 is 'hours.per.week' and of data type: int64\n",
      "Column 14 is 'native.country' and of data type: object\n",
      "Column 15 is 'income' and of data type: object\n"
     ]
    }
   ],
   "source": [
    "attributeList = incomeDataFrame.columns\n",
    "\n",
    "print('\\nColumns in Dataframe and their Imported Data Type:\\n')\n",
    "for i in range(len(attributeList.values)):\n",
    "    print('Column {0} is \\'{1}\\' and of data type: {2}'.format(i+1,attributeList.values[i],incomeDataFrame[attributeList.values[i]].dtype))\n",
    "   "
   ]
  },
  {
   "cell_type": "markdown",
   "id": "sVqT9pnhJw-_",
   "metadata": {
    "id": "sVqT9pnhJw-_"
   },
   "source": [
    "**Analysis various statistical values of the dataframe**"
   ]
  },
  {
   "cell_type": "code",
   "execution_count": 38,
   "id": "0c9HOPyeJurG",
   "metadata": {
    "colab": {
     "base_uri": "https://localhost:8080/",
     "height": 562
    },
    "id": "0c9HOPyeJurG",
    "outputId": "01d8d260-e380-471c-9866-90c7b13c4283"
   },
   "outputs": [
    {
     "name": "stdout",
     "output_type": "stream",
     "text": [
      "\n",
      "The mean of the dataframe is:\n",
      "\n",
      " age                   38.581647\n",
      "fnlwgt            189778.366512\n",
      "education.num         10.080679\n",
      "capital.gain        1077.648844\n",
      "capital.loss          87.303830\n",
      "hours.per.week        40.437456\n",
      "dtype: float64\n",
      "\n",
      "The median of the dataframe is:\n",
      "\n",
      " age                   37.0\n",
      "fnlwgt            178356.0\n",
      "education.num         10.0\n",
      "capital.gain           0.0\n",
      "capital.loss           0.0\n",
      "hours.per.week        40.0\n",
      "dtype: float64\n",
      "\n",
      "The mode of the dataframe Attributes 'Age', 'hours per week ' and 'Number of Education Years'is:\n",
      "\n",
      "    age  hours.per.week  education.num\n",
      "0   36              40              9\n"
     ]
    },
    {
     "name": "stderr",
     "output_type": "stream",
     "text": [
      "/opt/anaconda3/envs/tf/lib/python3.7/site-packages/ipykernel_launcher.py:1: FutureWarning: Dropping of nuisance columns in DataFrame reductions (with 'numeric_only=None') is deprecated; in a future version this will raise TypeError.  Select only valid columns before calling the reduction.\n",
      "  \"\"\"Entry point for launching an IPython kernel.\n",
      "/opt/anaconda3/envs/tf/lib/python3.7/site-packages/ipykernel_launcher.py:2: FutureWarning: Dropping of nuisance columns in DataFrame reductions (with 'numeric_only=None') is deprecated; in a future version this will raise TypeError.  Select only valid columns before calling the reduction.\n",
      "  \n"
     ]
    }
   ],
   "source": [
    "print(f\"\\nThe mean of the dataframe is:\\n\\n {incomeDataFrame.mean()}\")\n",
    "print(f\"\\nThe median of the dataframe is:\\n\\n {incomeDataFrame.median()}\")\n",
    "print(f\"\\nThe mode of the dataframe Attributes \\'Age\\', \\'hours per week \\' and \\'Number of Education Years\\'is:\\n\\n {incomeDataFrame[['age','hours.per.week','education.num']].mode()}\")"
   ]
  },
  {
   "cell_type": "markdown",
   "id": "e9180810",
   "metadata": {
    "id": "e9180810"
   },
   "source": [
    "<b>Determining number of samples missing attributes and how many:<b>"
   ]
  },
  {
   "cell_type": "code",
   "execution_count": 39,
   "id": "47c0196b",
   "metadata": {
    "colab": {
     "base_uri": "https://localhost:8080/"
    },
    "id": "47c0196b",
    "outputId": "ae206add-aba4-4603-e0b2-cebb9d528e51"
   },
   "outputs": [
    {
     "name": "stdout",
     "output_type": "stream",
     "text": [
      "\n",
      "~~Checking for Samples with Missing Data~~\n",
      "\n",
      "Total Number of Samples is: 32561 \n",
      "\n",
      "No of Samples in data set with missing attribute 'workclass' are: 1836\n",
      "No of Samples in data set with missing attribute 'occupation' are: 1843\n",
      "No of Samples in data set with missing attribute 'native.country' are: 583\n",
      "\n",
      "No of Columns that have missing values: 3\n"
     ]
    }
   ],
   "source": [
    "#Check How many attributes are missing information\n",
    "\n",
    "print('\\n~~Checking for Samples with Missing Data~~\\n')\n",
    "print('Total Number of Samples is:',samples,'\\n')\n",
    "attributesWithMissingValues=0\n",
    "incomeDataFrame=incomeDataFrame.replace('?',pd.NA)\n",
    "\n",
    "for i in range(len(attributeList)):\n",
    "    dataCount = incomeDataFrame[attributeList[i]].count()\n",
    "    if samples-dataCount>0:\n",
    "        print(\"No of Samples in data set with missing attribute '{0}' are: {1}\".format(attributeList[i],samples-dataCount))\n",
    "        attributesWithMissingValues=attributesWithMissingValues+1\n",
    "\n",
    "print(\"\\nNo of Columns that have missing values:\",attributesWithMissingValues)\n"
   ]
  },
  {
   "cell_type": "markdown",
   "id": "15e61f1c",
   "metadata": {
    "id": "15e61f1c"
   },
   "source": [
    "<b>Updating Attributes that have type object to Category:<b>"
   ]
  },
  {
   "cell_type": "code",
   "execution_count": 40,
   "id": "59d1eda2",
   "metadata": {
    "colab": {
     "base_uri": "https://localhost:8080/"
    },
    "id": "59d1eda2",
    "outputId": "a1fd4c9d-a781-43be-8c26-5b90c5f064e1"
   },
   "outputs": [
    {
     "name": "stdout",
     "output_type": "stream",
     "text": [
      "Updating type for : workclass to  category\n",
      "Updating type for : education to  category\n",
      "Updating type for : marital.status to  category\n",
      "Updating type for : occupation to  category\n",
      "Updating type for : relationship to  category\n",
      "Updating type for : race to  category\n",
      "Updating type for : sex to  category\n",
      "Updating type for : native.country to  category\n",
      "Updating type for : income to  category\n"
     ]
    }
   ],
   "source": [
    "for i in range(len(attributeList)):\n",
    "    if incomeDataFrame[attributeList[i]].dtype=='object':\n",
    "        incomeDataFrame[attributeList[i]]=incomeDataFrame[attributeList[i]].astype('category')\n",
    "        print('Updating type for :',attributeList[i],'to ',incomeDataFrame[attributeList[i]].dtype)\n",
    "\n"
   ]
  },
  {
   "cell_type": "markdown",
   "id": "10a84b22",
   "metadata": {
    "id": "10a84b22"
   },
   "source": [
    "<b>Dropping Samples with N/A Values<b>"
   ]
  },
  {
   "cell_type": "code",
   "execution_count": 41,
   "id": "cd0d2dab",
   "metadata": {
    "colab": {
     "base_uri": "https://localhost:8080/"
    },
    "id": "cd0d2dab",
    "outputId": "44c46fb2-4833-496b-b22a-cc37ef0f8dc1"
   },
   "outputs": [
    {
     "name": "stdout",
     "output_type": "stream",
     "text": [
      "Total Number of Samples After Dropping is: 30162 \n",
      "\n"
     ]
    }
   ],
   "source": [
    "incomeDataFrame=incomeDataFrame.dropna()\n",
    "samples,attributes = incomeDataFrame.shape\n",
    "print('Total Number of Samples After Dropping is:',samples,'\\n')\n"
   ]
  },
  {
   "cell_type": "markdown",
   "id": "1c62cf82",
   "metadata": {
    "id": "1c62cf82"
   },
   "source": [
    "<b>Plot of Education Qualification of Samples<b>"
   ]
  },
  {
   "cell_type": "code",
   "execution_count": 42,
   "id": "8e037590",
   "metadata": {
    "colab": {
     "base_uri": "https://localhost:8080/",
     "height": 497
    },
    "id": "8e037590",
    "outputId": "5a145b44-2319-430f-e574-c4fe89ead16a"
   },
   "outputs": [
    {
     "data": {
      "image/png": "[encoded data removed]",
      "text/plain": [
       "<Figure size 1152x576 with 1 Axes>"
      ]
     },
     "metadata": {
      "needs_background": "light"
     },
     "output_type": "display_data"
    }
   ],
   "source": [
    "d=incomeDataFrame['education'].value_counts()\n",
    "y=d.index.categories.values[range(12)]\n",
    "x=d.values[range(12)]\n",
    "\n",
    "plotter.figure(figsize=(16,8))\n",
    "plotter.bar(y,x, label='Samples by Education')\n",
    "plotter.xlabel('Highest Education Level')\n",
    "plotter.ylabel('No of Samples')\n",
    "plotter.legend()\n",
    "plotter.show()"
   ]
  },
  {
   "cell_type": "markdown",
   "id": "298a2015",
   "metadata": {
    "id": "298a2015"
   },
   "source": [
    "<b>Plot of Top Employers<b>"
   ]
  },
  {
   "cell_type": "code",
   "execution_count": 43,
   "id": "77b70969",
   "metadata": {
    "colab": {
     "base_uri": "https://localhost:8080/",
     "height": 497
    },
    "id": "77b70969",
    "outputId": "e0ccdfe5-71b6-4396-9bc6-710c836aa1fb"
   },
   "outputs": [
    {
     "data": {
      "image/png": "[encoded data removed]",
      "text/plain": [
       "<Figure size 1152x576 with 1 Axes>"
      ]
     },
     "metadata": {
      "needs_background": "light"
     },
     "output_type": "display_data"
    }
   ],
   "source": [
    "d=incomeDataFrame['workclass'].value_counts()\n",
    "y=d.index.categories.values\n",
    "x=d.values\n",
    "\n",
    "plotter.figure(figsize=(16,8))\n",
    "plotter.bar(y,x, label='Types of Employment',color='violet')\n",
    "plotter.xlabel('Employment Proviers')\n",
    "plotter.ylabel('No of Samples')\n",
    "plotter.legend()\n",
    "plotter.show()"
   ]
  },
  {
   "cell_type": "markdown",
   "id": "1e2e8d3b",
   "metadata": {
    "id": "1e2e8d3b"
   },
   "source": [
    "<b>Plot of Most Employable Occupations<b>"
   ]
  },
  {
   "cell_type": "code",
   "execution_count": 44,
   "id": "011fead1",
   "metadata": {
    "colab": {
     "base_uri": "https://localhost:8080/",
     "height": 497
    },
    "id": "011fead1",
    "outputId": "0c7c8f10-95f1-4809-f8a8-6adb62e094b2"
   },
   "outputs": [
    {
     "data": {
      "image/png": "[encoded data removed]",
      "text/plain": [
       "<Figure size 1152x576 with 1 Axes>"
      ]
     },
     "metadata": {
      "needs_background": "light"
     },
     "output_type": "display_data"
    }
   ],
   "source": [
    "d=incomeDataFrame['occupation'].value_counts()\n",
    "y=d.index.categories.values[range(10)]\n",
    "x=d.values[range(10)]\n",
    "\n",
    "plotter.figure(figsize=(16,8))\n",
    "plotter.bar(y,x, label='Most Sought Occupation',color='orange')\n",
    "plotter.xlabel('Different Types of Occupation')\n",
    "plotter.ylabel('No of Samples')\n",
    "plotter.legend()\n",
    "plotter.show()"
   ]
  },
  {
   "cell_type": "markdown",
   "id": "cd1e0652",
   "metadata": {
    "id": "cd1e0652"
   },
   "source": [
    "<b>Renaming the Values of Attribute 'Income' so we may easily classify:<b>"
   ]
  },
  {
   "cell_type": "code",
   "execution_count": 45,
   "id": "e56cc6ef",
   "metadata": {
    "colab": {
     "base_uri": "https://localhost:8080/"
    },
    "id": "e56cc6ef",
    "outputId": "f55e8266-0ad3-4cc4-9e37-bb99de6e5623"
   },
   "outputs": [
    {
     "name": "stdout",
     "output_type": "stream",
     "text": [
      "No of Categories for attribute, 'Income': 2\n",
      "The Categories are:\n",
      "<=50K\n",
      ">50K\n",
      "Re-naming categories , changing <=50K to 0 and >50K to 1\n"
     ]
    }
   ],
   "source": [
    "print('No of Categories for attribute, \\'Income\\':',len(incomeDataFrame.income.cat.categories.array))\n",
    "print('The Categories are:')\n",
    "for counter in range(len(incomeDataFrame.income.cat.categories.array)):\n",
    "    print(incomeDataFrame.income.cat.categories.array[counter])\n",
    "    \n",
    "print('Re-naming categories , changing <=50K to 0 and >50K to 1')\n",
    "incomeDataFrame['income']=incomeDataFrame.income.cat.rename_categories([0,1])\n"
   ]
  },
  {
   "cell_type": "markdown",
   "id": "573ebc54",
   "metadata": {
    "id": "573ebc54"
   },
   "source": [
    "<b>Converting Other Category attributes to Numerical Codes for Computation:<b>"
   ]
  },
  {
   "cell_type": "code",
   "execution_count": 46,
   "id": "62e644fc",
   "metadata": {
    "id": "62e644fc"
   },
   "outputs": [],
   "source": [
    "\n",
    "incomeDataFrame['workclass']=incomeDataFrame.workclass.cat.codes\n",
    "incomeDataFrame['occupation']=incomeDataFrame.occupation.cat.codes\n",
    "incomeDataFrame['race']=incomeDataFrame.race.cat.codes\n",
    "incomeDataFrame['sex']=incomeDataFrame.sex.cat.codes\n",
    "incomeDataFrame['native.country']=incomeDataFrame['native.country'].cat.codes\n",
    "incomeDataFrame['relationship']=incomeDataFrame['relationship'].cat.codes\n",
    "incomeDataFrame['marital.status']=incomeDataFrame['marital.status'].cat.codes\n",
    "incomeDataFrame['education']=incomeDataFrame['education'].cat.codes\n",
    "#incomeDataFrame['income']=incomeDataFrame['income'].cat.codes\n",
    "\n"
   ]
  },
  {
   "cell_type": "code",
   "execution_count": 47,
   "id": "e307ec2a",
   "metadata": {
    "id": "e307ec2a"
   },
   "outputs": [],
   "source": [
    "attributes = ['age','workclass','education.num','occupation','race','sex','native.country','capital.loss','hours.per.week','relationship','marital.status','fnlwgt','education','capital.gain']\n",
    "#attributes = ['age','workclass','education.num','education','occupation','race','income','hours.per.week','native.country']\n",
    "for attributeCounter in range(len(attributes)):\n",
    "    maxValue = incomeDataFrame[attributes[attributeCounter]].max()\n",
    "    minValue = incomeDataFrame[attributes[attributeCounter]].min()\n",
    "    incomeDataFrame[attributes[attributeCounter]]=(incomeDataFrame[attributes[attributeCounter]]-minValue)/(maxValue-minValue)\n"
   ]
  },
  {
   "cell_type": "markdown",
   "id": "b8523b71",
   "metadata": {
    "id": "b8523b71"
   },
   "source": [
    "<b>Splitting Given Data Set into Training and Testing Set<b>"
   ]
  },
  {
   "cell_type": "code",
   "execution_count": 48,
   "id": "fe4c5a24",
   "metadata": {
    "colab": {
     "base_uri": "https://localhost:8080/"
    },
    "id": "fe4c5a24",
    "outputId": "b1cd1ad2-cf8d-473a-92ee-17178bc5aa5a"
   },
   "outputs": [
    {
     "name": "stdout",
     "output_type": "stream",
     "text": [
      "No of Samples in Training Set: 24129\n",
      "(24129, 14) : (24129,)\n",
      "(6033, 14) : (6033,)\n"
     ]
    }
   ],
   "source": [
    "incomeDataFrame = incomeDataFrame.sample(frac=1).reset_index(drop=True)\n",
    "featureVector = incomeDataFrame[['age','workclass','education.num','occupation','race','sex','native.country','capital.loss','hours.per.week','relationship','marital.status','fnlwgt','education','capital.gain']]\n",
    "actualLabelVector = incomeDataFrame['income'].astype('float64')\n",
    "\n",
    "#featureVector=incomeDataFrame[['age','workclass','education.num','education','occupation','race','income','hours.per.week','native.country']]\n",
    "#actualLabelVector = incomeDataFrame['sex'].astype('float64')\n",
    "trainingSetSampleSize = math.floor(0.8*samples)\n",
    "print('No of Samples in Training Set:',trainingSetSampleSize)\n",
    "\n",
    "X_Train = featureVector.iloc[:trainingSetSampleSize,:]\n",
    "Y_Train_Label = actualLabelVector.iloc[:trainingSetSampleSize]\n",
    "\n",
    "X_Test = featureVector.iloc[trainingSetSampleSize:,:]\n",
    "Y_Test_Label = actualLabelVector.iloc[trainingSetSampleSize:]\n",
    "\n",
    "print(X_Train.shape,':',Y_Train_Label.shape)\n",
    "print(X_Test.shape,':',Y_Test_Label.shape)\n",
    "\n"
   ]
  },
  {
   "cell_type": "markdown",
   "id": "90a62321",
   "metadata": {
    "id": "90a62321"
   },
   "source": [
    "<b>Implementing NN Model<b>"
   ]
  },
  {
   "cell_type": "code",
   "execution_count": 57,
   "id": "de48fcd1",
   "metadata": {
    "colab": {
     "base_uri": "https://localhost:8080/"
    },
    "id": "de48fcd1",
    "outputId": "1fb84be6-99cf-4031-cfd3-ce076913c93c"
   },
   "outputs": [
    {
     "name": "stdout",
     "output_type": "stream",
     "text": [
      "WARNING:tensorflow:Falling back from v2 loop because of error: Failed to find data adapter that can handle input: <class 'pandas.core.frame.DataFrame'>, <class 'NoneType'>\n",
      "Train on 24129 samples, validate on 6033 samples\n",
      "Epoch 1/100\n",
      "24129/24129 [==============================] - 4s 156us/sample - loss: 0.4906 - accuracy: 0.7674 - val_loss: 0.4165 - val_accuracy: 0.8095\n",
      "Epoch 2/100\n",
      "24129/24129 [==============================] - 3s 104us/sample - loss: 0.3853 - accuracy: 0.8223 - val_loss: 0.3615 - val_accuracy: 0.8313\n",
      "Epoch 3/100\n",
      "24129/24129 [==============================] - 2s 103us/sample - loss: 0.3546 - accuracy: 0.8341 - val_loss: 0.3453 - val_accuracy: 0.8372\n",
      "Epoch 4/100\n",
      "24129/24129 [==============================] - 2s 103us/sample - loss: 0.3450 - accuracy: 0.8365 - val_loss: 0.3396 - val_accuracy: 0.8400\n",
      "Epoch 5/100\n",
      "24129/24129 [==============================] - 3s 113us/sample - loss: 0.3413 - accuracy: 0.8378 - val_loss: 0.3532 - val_accuracy: 0.8347\n",
      "Epoch 6/100\n",
      "24129/24129 [==============================] - 4s 168us/sample - loss: 0.3405 - accuracy: 0.8384 - val_loss: 0.3438 - val_accuracy: 0.8400\n",
      "Epoch 7/100\n",
      "24129/24129 [==============================] - 3s 120us/sample - loss: 0.3379 - accuracy: 0.8406 - val_loss: 0.3397 - val_accuracy: 0.8399\n",
      "Epoch 8/100\n",
      "24129/24129 [==============================] - 3s 106us/sample - loss: 0.3365 - accuracy: 0.8402 - val_loss: 0.3373 - val_accuracy: 0.8435\n",
      "Epoch 9/100\n",
      "24129/24129 [==============================] - 3s 111us/sample - loss: 0.3351 - accuracy: 0.8400 - val_loss: 0.3445 - val_accuracy: 0.8367\n",
      "Epoch 10/100\n",
      "24129/24129 [==============================] - 3s 117us/sample - loss: 0.3352 - accuracy: 0.8421 - val_loss: 0.3369 - val_accuracy: 0.8425\n",
      "Epoch 11/100\n",
      "24129/24129 [==============================] - 3s 108us/sample - loss: 0.3350 - accuracy: 0.8405 - val_loss: 0.3406 - val_accuracy: 0.8449\n",
      "Epoch 12/100\n",
      "24129/24129 [==============================] - 3s 108us/sample - loss: 0.3331 - accuracy: 0.8426 - val_loss: 0.3357 - val_accuracy: 0.8427\n",
      "Epoch 13/100\n",
      "24129/24129 [==============================] - 3s 134us/sample - loss: 0.3329 - accuracy: 0.8431 - val_loss: 0.3353 - val_accuracy: 0.8430\n",
      "Epoch 14/100\n",
      "24129/24129 [==============================] - 3s 109us/sample - loss: 0.3323 - accuracy: 0.8433 - val_loss: 0.3384 - val_accuracy: 0.8420\n",
      "Epoch 15/100\n",
      "24129/24129 [==============================] - 3s 118us/sample - loss: 0.3328 - accuracy: 0.8432 - val_loss: 0.3341 - val_accuracy: 0.8450\n",
      "Epoch 16/100\n",
      "24129/24129 [==============================] - 3s 111us/sample - loss: 0.3312 - accuracy: 0.8440 - val_loss: 0.3348 - val_accuracy: 0.8425\n",
      "Epoch 17/100\n",
      "24129/24129 [==============================] - 3s 110us/sample - loss: 0.3311 - accuracy: 0.8441 - val_loss: 0.3380 - val_accuracy: 0.8415\n",
      "Epoch 18/100\n",
      "24129/24129 [==============================] - 3s 130us/sample - loss: 0.3308 - accuracy: 0.8435 - val_loss: 0.3349 - val_accuracy: 0.8435\n",
      "Epoch 19/100\n",
      "24129/24129 [==============================] - 3s 112us/sample - loss: 0.3304 - accuracy: 0.8439 - val_loss: 0.3361 - val_accuracy: 0.8415\n",
      "Epoch 20/100\n",
      "24129/24129 [==============================] - 3s 110us/sample - loss: 0.3297 - accuracy: 0.8439 - val_loss: 0.3339 - val_accuracy: 0.8432\n",
      "Epoch 21/100\n",
      "24129/24129 [==============================] - 3s 113us/sample - loss: 0.3286 - accuracy: 0.8452 - val_loss: 0.3391 - val_accuracy: 0.8369\n",
      "Epoch 22/100\n",
      "24129/24129 [==============================] - 3s 133us/sample - loss: 0.3285 - accuracy: 0.8467 - val_loss: 0.3430 - val_accuracy: 0.8377\n",
      "Epoch 23/100\n",
      "24129/24129 [==============================] - 3s 116us/sample - loss: 0.3284 - accuracy: 0.8432 - val_loss: 0.3333 - val_accuracy: 0.8447\n",
      "Epoch 24/100\n",
      "24129/24129 [==============================] - 3s 128us/sample - loss: 0.3275 - accuracy: 0.8452 - val_loss: 0.3405 - val_accuracy: 0.8404\n",
      "Epoch 25/100\n",
      "24129/24129 [==============================] - 3s 113us/sample - loss: 0.3263 - accuracy: 0.8454 - val_loss: 0.3365 - val_accuracy: 0.8432\n",
      "Epoch 26/100\n",
      "24129/24129 [==============================] - 3s 113us/sample - loss: 0.3268 - accuracy: 0.8463 - val_loss: 0.3337 - val_accuracy: 0.8432\n",
      "Epoch 27/100\n",
      "24129/24129 [==============================] - 3s 112us/sample - loss: 0.3261 - accuracy: 0.8460 - val_loss: 0.3348 - val_accuracy: 0.8447\n",
      "Epoch 28/100\n",
      "24129/24129 [==============================] - 3s 128us/sample - loss: 0.3263 - accuracy: 0.8475 - val_loss: 0.3388 - val_accuracy: 0.8432\n",
      "Epoch 29/100\n",
      "24129/24129 [==============================] - 3s 112us/sample - loss: 0.3251 - accuracy: 0.8475 - val_loss: 0.3472 - val_accuracy: 0.8323\n",
      "Epoch 30/100\n",
      "24129/24129 [==============================] - 3s 113us/sample - loss: 0.3246 - accuracy: 0.8486 - val_loss: 0.3329 - val_accuracy: 0.8450\n",
      "Epoch 31/100\n",
      "24129/24129 [==============================] - 3s 116us/sample - loss: 0.3241 - accuracy: 0.8479 - val_loss: 0.3330 - val_accuracy: 0.8444\n",
      "Epoch 32/100\n",
      "24129/24129 [==============================] - 3s 117us/sample - loss: 0.3233 - accuracy: 0.8481 - val_loss: 0.3325 - val_accuracy: 0.8468\n",
      "Epoch 33/100\n",
      "24129/24129 [==============================] - 3s 112us/sample - loss: 0.3227 - accuracy: 0.8497 - val_loss: 0.3333 - val_accuracy: 0.8455\n",
      "Epoch 34/100\n",
      "24129/24129 [==============================] - 3s 116us/sample - loss: 0.3234 - accuracy: 0.8476 - val_loss: 0.3511 - val_accuracy: 0.8331\n",
      "Epoch 35/100\n",
      "24129/24129 [==============================] - 3s 117us/sample - loss: 0.3232 - accuracy: 0.8476 - val_loss: 0.3405 - val_accuracy: 0.8405\n",
      "Epoch 36/100\n",
      "24129/24129 [==============================] - 2s 102us/sample - loss: 0.3218 - accuracy: 0.8475 - val_loss: 0.3330 - val_accuracy: 0.8470\n",
      "Epoch 37/100\n",
      "24129/24129 [==============================] - 2s 100us/sample - loss: 0.3226 - accuracy: 0.8467 - val_loss: 0.3331 - val_accuracy: 0.8455\n",
      "Epoch 38/100\n",
      "24129/24129 [==============================] - 2s 101us/sample - loss: 0.3214 - accuracy: 0.8475 - val_loss: 0.3417 - val_accuracy: 0.8432\n",
      "Epoch 39/100\n",
      "24129/24129 [==============================] - 3s 107us/sample - loss: 0.3215 - accuracy: 0.8486 - val_loss: 0.3430 - val_accuracy: 0.8407\n",
      "Epoch 40/100\n",
      "24129/24129 [==============================] - 3s 109us/sample - loss: 0.3214 - accuracy: 0.8491 - val_loss: 0.3367 - val_accuracy: 0.8462\n",
      "Epoch 41/100\n",
      "24129/24129 [==============================] - 2s 102us/sample - loss: 0.3211 - accuracy: 0.8489 - val_loss: 0.3348 - val_accuracy: 0.8492\n",
      "Epoch 42/100\n",
      "24129/24129 [==============================] - 2s 101us/sample - loss: 0.3208 - accuracy: 0.8489 - val_loss: 0.3317 - val_accuracy: 0.8463\n",
      "Epoch 43/100\n",
      "24129/24129 [==============================] - 2s 101us/sample - loss: 0.3201 - accuracy: 0.8499 - val_loss: 0.3377 - val_accuracy: 0.8452\n",
      "Epoch 44/100\n",
      "24129/24129 [==============================] - 3s 106us/sample - loss: 0.3200 - accuracy: 0.8507 - val_loss: 0.3314 - val_accuracy: 0.8457\n",
      "Epoch 45/100\n",
      "24129/24129 [==============================] - 3s 113us/sample - loss: 0.3204 - accuracy: 0.8479 - val_loss: 0.3354 - val_accuracy: 0.8454\n",
      "Epoch 46/100\n",
      "24129/24129 [==============================] - 3s 125us/sample - loss: 0.3193 - accuracy: 0.8511 - val_loss: 0.3355 - val_accuracy: 0.8458\n",
      "Epoch 47/100\n",
      "24129/24129 [==============================] - 3s 107us/sample - loss: 0.3189 - accuracy: 0.8515 - val_loss: 0.3402 - val_accuracy: 0.8432\n",
      "Epoch 48/100\n",
      "24129/24129 [==============================] - 3s 107us/sample - loss: 0.3203 - accuracy: 0.8493 - val_loss: 0.3313 - val_accuracy: 0.8437\n",
      "Epoch 49/100\n",
      "24129/24129 [==============================] - 3s 108us/sample - loss: 0.3189 - accuracy: 0.8503 - val_loss: 0.3315 - val_accuracy: 0.8482\n",
      "Epoch 50/100\n",
      "24129/24129 [==============================] - 3s 107us/sample - loss: 0.3180 - accuracy: 0.8495 - val_loss: 0.3316 - val_accuracy: 0.8447\n",
      "Epoch 51/100\n",
      "24129/24129 [==============================] - 3s 106us/sample - loss: 0.3188 - accuracy: 0.8508 - val_loss: 0.3355 - val_accuracy: 0.8458\n",
      "Epoch 52/100\n",
      "24129/24129 [==============================] - 3s 107us/sample - loss: 0.3185 - accuracy: 0.8507 - val_loss: 0.3305 - val_accuracy: 0.8478\n",
      "Epoch 53/100\n"
     ]
    },
    {
     "name": "stdout",
     "output_type": "stream",
     "text": [
      "24129/24129 [==============================] - 3s 109us/sample - loss: 0.3183 - accuracy: 0.8494 - val_loss: 0.3309 - val_accuracy: 0.8500\n",
      "Epoch 54/100\n",
      "24129/24129 [==============================] - 2s 102us/sample - loss: 0.3179 - accuracy: 0.8497 - val_loss: 0.3328 - val_accuracy: 0.8480\n",
      "Epoch 55/100\n",
      "24129/24129 [==============================] - 2s 103us/sample - loss: 0.3176 - accuracy: 0.8498 - val_loss: 0.3303 - val_accuracy: 0.8497\n",
      "Epoch 56/100\n",
      "24129/24129 [==============================] - 2s 99us/sample - loss: 0.3190 - accuracy: 0.8506 - val_loss: 0.3314 - val_accuracy: 0.8465\n",
      "Epoch 57/100\n",
      "24129/24129 [==============================] - 3s 106us/sample - loss: 0.3173 - accuracy: 0.8513 - val_loss: 0.3309 - val_accuracy: 0.8515\n",
      "Epoch 58/100\n",
      "24129/24129 [==============================] - 3s 111us/sample - loss: 0.3175 - accuracy: 0.8519 - val_loss: 0.3375 - val_accuracy: 0.8473\n",
      "Epoch 59/100\n",
      "24129/24129 [==============================] - 2s 100us/sample - loss: 0.3186 - accuracy: 0.8497 - val_loss: 0.3329 - val_accuracy: 0.8526\n",
      "Epoch 60/100\n",
      "24129/24129 [==============================] - 2s 99us/sample - loss: 0.3175 - accuracy: 0.8496 - val_loss: 0.3316 - val_accuracy: 0.8495\n",
      "Epoch 61/100\n",
      "24129/24129 [==============================] - 2s 99us/sample - loss: 0.3177 - accuracy: 0.8493 - val_loss: 0.3349 - val_accuracy: 0.8454\n",
      "Epoch 62/100\n",
      "24129/24129 [==============================] - 2s 102us/sample - loss: 0.3171 - accuracy: 0.8501 - val_loss: 0.3358 - val_accuracy: 0.8410\n",
      "Epoch 63/100\n",
      "24129/24129 [==============================] - 3s 110us/sample - loss: 0.3171 - accuracy: 0.8501 - val_loss: 0.3382 - val_accuracy: 0.8420\n",
      "Epoch 64/100\n",
      "24129/24129 [==============================] - 3s 106us/sample - loss: 0.3169 - accuracy: 0.8511 - val_loss: 0.3340 - val_accuracy: 0.8467\n",
      "Epoch 65/100\n",
      "24129/24129 [==============================] - 3s 106us/sample - loss: 0.3171 - accuracy: 0.8505 - val_loss: 0.3332 - val_accuracy: 0.8477\n",
      "Epoch 66/100\n",
      "24129/24129 [==============================] - 3s 105us/sample - loss: 0.3161 - accuracy: 0.8496 - val_loss: 0.3429 - val_accuracy: 0.8437\n",
      "Epoch 67/100\n",
      "24129/24129 [==============================] - 3s 124us/sample - loss: 0.3169 - accuracy: 0.8489 - val_loss: 0.3420 - val_accuracy: 0.8434\n",
      "Epoch 68/100\n",
      "24129/24129 [==============================] - 3s 105us/sample - loss: 0.3163 - accuracy: 0.8508 - val_loss: 0.3361 - val_accuracy: 0.8465\n",
      "Epoch 69/100\n",
      "24129/24129 [==============================] - 2s 102us/sample - loss: 0.3158 - accuracy: 0.8503 - val_loss: 0.3322 - val_accuracy: 0.8468\n",
      "Epoch 70/100\n",
      "24129/24129 [==============================] - 3s 111us/sample - loss: 0.3154 - accuracy: 0.8514 - val_loss: 0.3303 - val_accuracy: 0.8503\n",
      "Epoch 71/100\n",
      "24129/24129 [==============================] - 3s 120us/sample - loss: 0.3157 - accuracy: 0.8494 - val_loss: 0.3327 - val_accuracy: 0.8449\n",
      "Epoch 72/100\n",
      "24129/24129 [==============================] - 2s 102us/sample - loss: 0.3161 - accuracy: 0.8505 - val_loss: 0.3302 - val_accuracy: 0.8487\n",
      "Epoch 73/100\n",
      "24129/24129 [==============================] - 3s 117us/sample - loss: 0.3152 - accuracy: 0.8517 - val_loss: 0.3397 - val_accuracy: 0.8500\n",
      "Epoch 74/100\n",
      "24129/24129 [==============================] - 3s 106us/sample - loss: 0.3147 - accuracy: 0.8518 - val_loss: 0.3311 - val_accuracy: 0.8473\n",
      "Epoch 75/100\n",
      "24129/24129 [==============================] - 3s 104us/sample - loss: 0.3153 - accuracy: 0.8505 - val_loss: 0.3309 - val_accuracy: 0.8482\n",
      "Epoch 76/100\n",
      "24129/24129 [==============================] - 3s 108us/sample - loss: 0.3148 - accuracy: 0.8523 - val_loss: 0.3294 - val_accuracy: 0.8483\n",
      "Epoch 77/100\n",
      "24129/24129 [==============================] - 3s 120us/sample - loss: 0.3140 - accuracy: 0.8509 - val_loss: 0.3340 - val_accuracy: 0.8478\n",
      "Epoch 78/100\n",
      "24129/24129 [==============================] - 3s 115us/sample - loss: 0.3147 - accuracy: 0.8515 - val_loss: 0.3321 - val_accuracy: 0.8505\n",
      "Epoch 79/100\n",
      "24129/24129 [==============================] - 3s 113us/sample - loss: 0.3144 - accuracy: 0.8512 - val_loss: 0.3317 - val_accuracy: 0.8500\n",
      "Epoch 80/100\n",
      "24129/24129 [==============================] - 2s 103us/sample - loss: 0.3144 - accuracy: 0.8505 - val_loss: 0.3414 - val_accuracy: 0.8414\n",
      "Epoch 81/100\n",
      "24129/24129 [==============================] - 3s 104us/sample - loss: 0.3134 - accuracy: 0.8527 - val_loss: 0.3313 - val_accuracy: 0.8477\n",
      "Epoch 82/100\n",
      "24129/24129 [==============================] - 3s 118us/sample - loss: 0.3142 - accuracy: 0.8502 - val_loss: 0.3342 - val_accuracy: 0.8495\n",
      "Epoch 83/100\n",
      "24129/24129 [==============================] - 3s 133us/sample - loss: 0.3142 - accuracy: 0.8511 - val_loss: 0.3307 - val_accuracy: 0.8470\n",
      "Epoch 84/100\n",
      "24129/24129 [==============================] - 3s 106us/sample - loss: 0.3141 - accuracy: 0.8505 - val_loss: 0.3301 - val_accuracy: 0.8512\n",
      "Epoch 85/100\n",
      "24129/24129 [==============================] - 3s 108us/sample - loss: 0.3147 - accuracy: 0.8508 - val_loss: 0.3301 - val_accuracy: 0.8500\n",
      "Epoch 86/100\n",
      "24129/24129 [==============================] - 3s 109us/sample - loss: 0.3133 - accuracy: 0.8523 - val_loss: 0.3391 - val_accuracy: 0.8477\n",
      "Epoch 87/100\n",
      "24129/24129 [==============================] - 3s 109us/sample - loss: 0.3135 - accuracy: 0.8512 - val_loss: 0.3333 - val_accuracy: 0.8513\n",
      "Epoch 88/100\n",
      "24129/24129 [==============================] - 3s 110us/sample - loss: 0.3132 - accuracy: 0.8522 - val_loss: 0.3306 - val_accuracy: 0.8507\n",
      "Epoch 89/100\n",
      "24129/24129 [==============================] - 3s 142us/sample - loss: 0.3129 - accuracy: 0.8518 - val_loss: 0.3388 - val_accuracy: 0.8492\n",
      "Epoch 90/100\n",
      "24129/24129 [==============================] - 3s 113us/sample - loss: 0.3125 - accuracy: 0.8521 - val_loss: 0.3353 - val_accuracy: 0.8490\n",
      "Epoch 91/100\n",
      "24129/24129 [==============================] - 3s 112us/sample - loss: 0.3129 - accuracy: 0.8532 - val_loss: 0.3421 - val_accuracy: 0.8473\n",
      "Epoch 92/100\n",
      "24129/24129 [==============================] - 3s 117us/sample - loss: 0.3129 - accuracy: 0.8531 - val_loss: 0.3327 - val_accuracy: 0.8442\n",
      "Epoch 93/100\n",
      "24129/24129 [==============================] - 3s 121us/sample - loss: 0.3130 - accuracy: 0.8514 - val_loss: 0.3304 - val_accuracy: 0.8460\n",
      "Epoch 94/100\n",
      "24129/24129 [==============================] - 3s 108us/sample - loss: 0.3129 - accuracy: 0.8514 - val_loss: 0.3304 - val_accuracy: 0.8437\n",
      "Epoch 95/100\n",
      "24129/24129 [==============================] - 3s 108us/sample - loss: 0.3126 - accuracy: 0.8514 - val_loss: 0.3383 - val_accuracy: 0.8425\n",
      "Epoch 96/100\n",
      "24129/24129 [==============================] - 3s 108us/sample - loss: 0.3164 - accuracy: 0.8496 - val_loss: 0.3324 - val_accuracy: 0.8526\n",
      "Epoch 97/100\n",
      "24129/24129 [==============================] - 3s 110us/sample - loss: 0.3118 - accuracy: 0.8519 - val_loss: 0.3315 - val_accuracy: 0.8495\n",
      "Epoch 98/100\n",
      "24129/24129 [==============================] - 3s 113us/sample - loss: 0.3118 - accuracy: 0.8518 - val_loss: 0.3304 - val_accuracy: 0.8498\n",
      "Epoch 99/100\n",
      "24129/24129 [==============================] - 3s 121us/sample - loss: 0.3118 - accuracy: 0.8529 - val_loss: 0.3339 - val_accuracy: 0.8500\n",
      "Epoch 100/100\n",
      "24129/24129 [==============================] - 3s 111us/sample - loss: 0.3121 - accuracy: 0.8536 - val_loss: 0.3319 - val_accuracy: 0.8515\n"
     ]
    }
   ],
   "source": [
    "neuralNetworkModel = keras.Sequential([\n",
    "    keras.layers.Dense(30, input_shape=(14,),activation='relu'),\n",
    "    keras.layers.Dense(15, activation='relu'),\n",
    "    keras.layers.Dense(7, activation='relu'),\n",
    "    keras.layers.Dense(1, activation='sigmoid')])\n",
    "\n",
    "neuralNetworkModel.compile(optimizer='adam',\n",
    "                           loss='binary_crossentropy',\n",
    "                          metrics=['accuracy'])\n",
    "trainingResults = neuralNetworkModel.fit(X_Train,Y_Train_Label,validation_data=(X_Test,Y_Test_Label),batch_size=32,epochs=100)\n"
   ]
  },
  {
   "cell_type": "code",
   "execution_count": 58,
   "id": "103d7e95",
   "metadata": {
    "colab": {
     "base_uri": "https://localhost:8080/"
    },
    "id": "103d7e95",
    "outputId": "f9e8c214-c122-48e8-a4c0-460ff8d82354"
   },
   "outputs": [
    {
     "name": "stdout",
     "output_type": "stream",
     "text": [
      "WARNING:tensorflow:Falling back from v2 loop because of error: Failed to find data adapter that can handle input: <class 'pandas.core.frame.DataFrame'>, <class 'NoneType'>\n",
      "WARNING:tensorflow:Falling back from v2 loop because of error: Failed to find data adapter that can handle input: <class 'pandas.core.frame.DataFrame'>, <class 'NoneType'>\n",
      "\n",
      "\n",
      "\n",
      "\n",
      "Training Accuracy:  0.8554851\n",
      "\n",
      "Test Accuracy:  0.8514835\n"
     ]
    }
   ],
   "source": [
    "trainingAccuracy = neuralNetworkModel.evaluate(X_Train,Y_Train_Label,verbose=0)\n",
    "testingAccuracy = neuralNetworkModel.evaluate(X_Test,Y_Test_Label,verbose=0)\n",
    "print('\\n\\n')\n",
    "print('\\nTraining Accuracy: ',trainingAccuracy[1])\n",
    "print('\\nTest Accuracy: ',testingAccuracy[1])"
   ]
  },
  {
   "cell_type": "code",
   "execution_count": 59,
   "id": "bebc8004",
   "metadata": {
    "colab": {
     "base_uri": "https://localhost:8080/",
     "height": 497
    },
    "id": "bebc8004",
    "outputId": "3f5efcc8-6d34-4b21-c218-859b94ab36a4"
   },
   "outputs": [
    {
     "data": {
      "image/png": "[encoded data removed]",
      "text/plain": [
       "<Figure size 720x720 with 1 Axes>"
      ]
     },
     "metadata": {
      "needs_background": "light"
     },
     "output_type": "display_data"
    }
   ],
   "source": [
    "plotter.figure(figsize=(10,10))\n",
    "plotter.plot(trainingResults.history['accuracy'], label='Training Accuracy')\n",
    "plotter.plot(trainingResults.history['val_accuracy'], label='Test Accuracy')\n",
    "plotter.xlabel('epoch')\n",
    "plotter.ylabel('Accuracy')\n",
    "plotter.legend()\n",
    "plotter.grid()\n",
    "plotter.show()"
   ]
  },
  {
   "cell_type": "code",
   "execution_count": 60,
   "id": "111cc455",
   "metadata": {
    "colab": {
     "base_uri": "https://localhost:8080/",
     "height": 497
    },
    "id": "111cc455",
    "outputId": "1d57e01d-a7ff-4a0c-8468-8a07b5b1f9b7"
   },
   "outputs": [
    {
     "data": {
      "image/png": "[encoded data removed]",
      "text/plain": [
       "<Figure size 720x720 with 1 Axes>"
      ]
     },
     "metadata": {
      "needs_background": "light"
     },
     "output_type": "display_data"
    }
   ],
   "source": [
    "plotter.figure(figsize=(10,10))\n",
    "plotter.plot(trainingResults.history['loss'], label='Training Loss')\n",
    "plotter.plot(trainingResults.history['val_loss'], label='Test Loss')\n",
    "plotter.xlabel('epoch')\n",
    "plotter.ylabel('Loss')\n",
    "plotter.legend()\n",
    "plotter.grid()\n",
    "plotter.show()"
   ]
  },
  {
   "cell_type": "code",
   "execution_count": null,
   "id": "IY0jNHBsXsNY",
   "metadata": {
    "id": "IY0jNHBsXsNY"
   },
   "outputs": [],
   "source": []
  }
 ],
 "metadata": {
  "colab": {
   "name": "ADAS9_RAHATBHA_assignment3_part1_V2.ipynb",
   "provenance": []
  },
  "kernelspec": {
   "display_name": "Python 3 (ipykernel)",
   "language": "python",
   "name": "python3"
  },
  "language_info": {
   "codemirror_mode": {
    "name": "ipython",
    "version": 3
   },
   "file_extension": ".py",
   "mimetype": "text/x-python",
   "name": "python",
   "nbconvert_exporter": "python",
   "pygments_lexer": "ipython3",
   "version": "3.7.11"
  }
 },
 "nbformat": 4,
 "nbformat_minor": 5
}
